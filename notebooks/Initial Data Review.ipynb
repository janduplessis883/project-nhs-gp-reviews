{
 "cells": [
  {
   "cell_type": "markdown",
   "metadata": {},
   "source": [
    "<div class='alert' style='background-color: #1c1a1e; color: #f5f4f0; padding:16px 26px; border-radius:20px; font-size:40px;'><B>NHS GP Reviews</b> - First Look at data </div>\n",
    "<div style='margin:0px 26px; color:#1c1a1e; font-size:16px;'>\n",
    "Welcome to the Jupyter Notebook for the \"GP Reviews\" project. This notebook serves as the initial exploration and analysis phase of a larger project focused on understanding and classifying medical reviews of General Practitioner (GP) surgeries in England. Our dataset is derived from a comprehensive web scraping effort targeting the NHS website, specifically NHS GP service search.\n",
    "\n",
    "### Project Overview\n",
    "\n",
    "The primary goal of this project is to utilize machine learning, particularly natural language processing (NLP), to gain insights into the public perception and quality of GP services across England. By analyzing reviews, we aim to identify trends, common issues, and areas for improvement in healthcare services.\n",
    "\n",
    "### Data Collection\n",
    "**Source:** Reviews are collected from the NHS website, which provides a platform for patients to leave feedback on their experiences with GP surgeries.  \n",
    "Scope: Our dataset encompasses reviews from approximately 6052 GP surgeries, each uniquely identified by their ODE code.  \n",
    "Method: We employed web scraping techniques to systematically collect reviews from each GP's page on the NHS website.  \n",
    "**Data Format**  \n",
    "The scraped data has been compiled into a CSV file, offering a structured format that includes details such as surgery names, ODE codes, review texts, star ratings, and dates of visits.  \n",
    "\n",
    "### Objectives of This Notebook\n",
    "**Data Loading:** Import the collected data from the CSV file and observe its structure.  \n",
    "Preliminary Analysis: Conduct a basic analysis to understand the distribution of data, including the number of reviews per surgery, rating distributions, etc.  \n",
    "**Textual Data Exploration:** Explore the textual content of the reviews to identify common themes and sentiments.  \n",
    "Data Cleaning: Prepare the data for NLP tasks by cleaning and normalizing the text.  \n",
    "Initial Visualization: Create visual representations of the data to uncover patterns and insights.  \n",
    "**Future Work:** BARTopic Modeling\n",
    "The subsequent phase of this project involves the application of BARTopic, a state-of-the-art topic modeling technique. Our\n",
    "aim is to use BARTopic for the following purposes:  \n",
    "\n",
    "**Trend Identification:** Discover and track the evolution of topics in GP reviews over time. This will help in understanding how patient concerns and experiences have changed and will potentially reveal emerging issues in healthcare services.  \n",
    "**Topic Clustering:** Group reviews into coherent topics to better categorize the feedback. This can highlight specific areas in healthcare service that might require attention or improvement.  \n",
    "**Sentiment Analysis:** Coupled with topic modeling, we will perform sentiment analysis to gauge the overall sentiment (positive, negative, neutral) associated with each topic. This will provide a deeper understanding of patient satisfaction and dissatisfaction.\n",
    "\n",
    "### Potential Impact\n",
    "The insights derived from this project could have significant implications for healthcare providers, policymakers, and patients:\n",
    "\n",
    "Healthcare Providers: Identifying common issues or trends can help providers focus on areas needing improvement, enhancing patient care and satisfaction.\n",
    "Policymakers: The trends and patterns identified in this project can inform policy decisions and initiatives aimed at improving the quality of healthcare services.\n",
    "Patients: Greater transparency into the quality of GP services can empower patients to make more informed choices about their healthcare.\n",
    "Notebook Structure\n",
    "This notebook is organized as follows:\n",
    "\n",
    "Importing Libraries: Essential Python libraries for data handling, processing, and visualization will be imported.\n",
    "Data Loading: Loading the dataset from the CSV file into a Pandas DataFrame.\n",
    "Data Inspection and Cleaning: Inspecting the dataset for missing values, inconsistencies, and performing necessary cleaning steps.\n",
    "Exploratory Data Analysis (EDA): Analyzing the dataset to uncover basic patterns and statistics.\n",
    "Text Preprocessing: Preparing the textual data for NLP modeling, including tokenization, removing stopwords, etc.\n",
    "Initial Topic Modeling: Conducting a preliminary topic modeling to identify common themes in the data\n",
    "using simple techniques as a precursor to more advanced modeling.\n",
    "7. Visualization: Creating visualizations to display the distribution of ratings, frequency of topics, and other relevant insights.\n",
    "\n",
    "Preliminary Conclusions: Drawing initial conclusions from our exploratory analysis and outlining next steps for deeper analysis with BARTopic.\n",
    "Tools and Technologies\n",
    "Python: Our primary programming language for data manipulation and modeling.\n",
    "Pandas: For data handling and manipulation.\n",
    "Beautiful Soup: Utilized for web scraping the NHS website.\n",
    "BARTopic: An advanced NLP model for topic modeling.\n",
    "Matplotlib & Seaborn: For data visualization.\n",
    "Getting Started\n",
    "To proceed with the exploration, we'll start by importing the necessary libraries and loading our dataset. This initial step will set the stage for our in-depth analysis and modeling in subsequent sections of the notebook.\n",
    "\n",
    "</div>"
   ]
  },
  {
   "cell_type": "markdown",
   "metadata": {},
   "source": [
    "# Libraries & Data"
   ]
  },
  {
   "cell_type": "code",
   "execution_count": 1,
   "metadata": {},
   "outputs": [],
   "source": [
    "# Importing default Libraries\n",
    "import matplotlib.pyplot as plt\n",
    "import pandas as pd \n",
    "import numpy as np\n",
    "import seaborn as sns\n",
    "import warnings\n",
    "import datetime \n",
    "import os \n",
    "\n",
    "pd.options.display.max_rows = 1000\n",
    "pd.options.display.max_columns = 1000\n",
    "\n",
    "# Hi-resolution Plots and Matplotlib inline\n",
    "%config InlineBackend.figure_format = 'retina'\n",
    "%matplotlib inline\n",
    "\n",
    "# Set the maximum number of rows and columns to be displayed\n",
    "warnings.filterwarnings('ignore')\n",
    "\n",
    "# \"magic commands\" to enable autoreload of your imported packages\n",
    "%load_ext autoreload\n",
    "%autoreload 2"
   ]
  },
  {
   "cell_type": "markdown",
   "metadata": {},
   "source": [
    "## Loading Data"
   ]
  },
  {
   "cell_type": "code",
   "execution_count": 29,
   "metadata": {},
   "outputs": [
    {
     "data": {
      "text/html": [
       "<div>\n",
       "<style scoped>\n",
       "    .dataframe tbody tr th:only-of-type {\n",
       "        vertical-align: middle;\n",
       "    }\n",
       "\n",
       "    .dataframe tbody tr th {\n",
       "        vertical-align: top;\n",
       "    }\n",
       "\n",
       "    .dataframe thead th {\n",
       "        text-align: right;\n",
       "    }\n",
       "</style>\n",
       "<table border=\"1\" class=\"dataframe\">\n",
       "  <thead>\n",
       "    <tr style=\"text-align: right;\">\n",
       "      <th></th>\n",
       "      <th>ode</th>\n",
       "      <th>surgeryname</th>\n",
       "      <th>url</th>\n",
       "      <th>title</th>\n",
       "      <th>star_rating</th>\n",
       "      <th>comment</th>\n",
       "      <th>visited_date</th>\n",
       "    </tr>\n",
       "  </thead>\n",
       "  <tbody>\n",
       "    <tr>\n",
       "      <th>0</th>\n",
       "      <td>E81050</td>\n",
       "      <td>asplands-medical-centre</td>\n",
       "      <td>https://www.nhs.uk/services/gp-surgery/aspland...</td>\n",
       "      <td>What's changed?</td>\n",
       "      <td>3</td>\n",
       "      <td>Have been with this practice for a number of y...</td>\n",
       "      <td>2022-08-01</td>\n",
       "    </tr>\n",
       "    <tr>\n",
       "      <th>1</th>\n",
       "      <td>E81050</td>\n",
       "      <td>asplands-medical-centre</td>\n",
       "      <td>https://www.nhs.uk/services/gp-surgery/aspland...</td>\n",
       "      <td>Woburn surgery</td>\n",
       "      <td>5</td>\n",
       "      <td>I have been a patient at this practice for man...</td>\n",
       "      <td>2022-07-01</td>\n",
       "    </tr>\n",
       "  </tbody>\n",
       "</table>\n",
       "</div>"
      ],
      "text/plain": [
       "      ode              surgeryname  \\\n",
       "0  E81050  asplands-medical-centre   \n",
       "1  E81050  asplands-medical-centre   \n",
       "\n",
       "                                                 url            title  \\\n",
       "0  https://www.nhs.uk/services/gp-surgery/aspland...  What's changed?   \n",
       "1  https://www.nhs.uk/services/gp-surgery/aspland...   Woburn surgery   \n",
       "\n",
       "   star_rating                                            comment visited_date  \n",
       "0            3  Have been with this practice for a number of y...   2022-08-01  \n",
       "1            5  I have been a patient at this practice for man...   2022-07-01  "
      ]
     },
     "execution_count": 29,
     "metadata": {},
     "output_type": "execute_result"
    }
   ],
   "source": [
    "# Loading data from csv\n",
    "data = pd.read_csv(f'{RAW_DATA}/NHS Choices Reviews - Sheet1.csv')\n",
    "\n",
    "# Data Cleaning \n",
    "data.drop(columns='index',inplace=True)\n",
    "data['visited_date'] = data['visited_date'].str.replace('Visited ', '')\n",
    "data['visited_date'] = pd.to_datetime(data['visited_date'])\n",
    "data.dropna(inplace=True)\n",
    "data.drop_duplicates(inplace=True)\n",
    "data.head(2)"
   ]
  },
  {
   "cell_type": "code",
   "execution_count": 24,
   "metadata": {},
   "outputs": [
    {
     "name": "stdout",
     "output_type": "stream",
     "text": [
      "<class 'pandas.core.frame.DataFrame'>\n",
      "Index: 9062 entries, 0 to 9063\n",
      "Data columns (total 7 columns):\n",
      " #   Column        Non-Null Count  Dtype         \n",
      "---  ------        --------------  -----         \n",
      " 0   ode           9062 non-null   object        \n",
      " 1   surgeryname   9062 non-null   object        \n",
      " 2   url           9062 non-null   object        \n",
      " 3   title         9062 non-null   object        \n",
      " 4   star_rating   9062 non-null   int64         \n",
      " 5   comment       9062 non-null   object        \n",
      " 6   visited_date  9062 non-null   datetime64[ns]\n",
      "dtypes: datetime64[ns](1), int64(1), object(5)\n",
      "memory usage: 566.4+ KB\n"
     ]
    }
   ],
   "source": [
    "data.info()"
   ]
  },
  {
   "cell_type": "code",
   "execution_count": 40,
   "metadata": {},
   "outputs": [
    {
     "data": {
      "text/plain": [
       "(8992, 8)"
      ]
     },
     "execution_count": 40,
     "metadata": {},
     "output_type": "execute_result"
    }
   ],
   "source": [
    "data.shape"
   ]
  },
  {
   "cell_type": "markdown",
   "metadata": {},
   "source": [
    "### Review Word Count"
   ]
  },
  {
   "cell_type": "code",
   "execution_count": 33,
   "metadata": {},
   "outputs": [],
   "source": [
    "data['word_count'] = data['comment'].str.strip().apply(len)"
   ]
  },
  {
   "cell_type": "code",
   "execution_count": 45,
   "metadata": {},
   "outputs": [
    {
     "data": {
      "text/plain": [
       "Text(0.5, 1.0, 'Review Word Count')"
      ]
     },
     "execution_count": 45,
     "metadata": {},
     "output_type": "execute_result"
    },
    {
     "data": {
      "image/png": "[encoded data removed]",
      "text/plain": [
       "<Figure size 640x480 with 1 Axes>"
      ]
     },
     "metadata": {
      "image/png": {
       "height": 454,
       "width": 571
      }
     },
     "output_type": "display_data"
    }
   ],
   "source": [
    "sns.histplot(data['word_count'], color=\"#d7ab42\")\n",
    "plt.title(\"Review Word Count\")"
   ]
  },
  {
   "cell_type": "code",
   "execution_count": null,
   "metadata": {},
   "outputs": [],
   "source": []
  },
  {
   "cell_type": "code",
   "execution_count": null,
   "metadata": {},
   "outputs": [],
   "source": []
  },
  {
   "cell_type": "code",
   "execution_count": null,
   "metadata": {},
   "outputs": [],
   "source": []
  },
  {
   "cell_type": "code",
   "execution_count": null,
   "metadata": {},
   "outputs": [],
   "source": []
  },
  {
   "cell_type": "markdown",
   "metadata": {
    "jp-MarkdownHeadingCollapsed": true
   },
   "source": [
    "# Exploratory Analysis"
   ]
  },
  {
   "cell_type": "code",
   "execution_count": null,
   "metadata": {},
   "outputs": [],
   "source": []
  },
  {
   "cell_type": "code",
   "execution_count": null,
   "metadata": {},
   "outputs": [],
   "source": []
  },
  {
   "cell_type": "code",
   "execution_count": null,
   "metadata": {},
   "outputs": [],
   "source": []
  },
  {
   "cell_type": "code",
   "execution_count": null,
   "metadata": {},
   "outputs": [],
   "source": []
  }
 ],
 "metadata": {
  "kernelspec": {
   "display_name": "Python 3 (ipykernel)",
   "language": "python",
   "name": "python3"
  },
  "language_info": {
   "codemirror_mode": {
    "name": "ipython",
    "version": 3
   },
   "file_extension": ".py",
   "mimetype": "text/x-python",
   "name": "python",
   "nbconvert_exporter": "python",
   "pygments_lexer": "ipython3",
   "version": "3.10.6"
  },
  "widgets": {
   "application/vnd.jupyter.widget-state+json": {
    "state": {},
    "version_major": 2,
    "version_minor": 0
   }
  }
 },
 "nbformat": 4,
 "nbformat_minor": 4
}
